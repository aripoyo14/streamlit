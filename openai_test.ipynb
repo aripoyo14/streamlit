{
 "cells": [
  {
   "cell_type": "code",
   "execution_count": null,
   "metadata": {},
   "outputs": [
    {
     "name": "stdout",
     "output_type": "stream",
     "text": [
      "ChatCompletionMessage(content='もちろんです。以下に日本語で書かれた手紙の例を示します。\\n\\n---\\n\\n親愛なる友へ、\\n\\nお元気ですか？こちらは日々寒くなってきて、秋の訪れを感じています。最近、紅葉がとても美しく、週末に散歩をしながら楽しんでいます。\\n\\n先日はお手紙をありがとうございました。あなたの街のお祭りについての話を読んで、とても楽しそうで羨ましく思いました。いつか私も参加してみたいです。\\n\\n私たちはお互い忙しい日々を過ごしていますが、時間を見つけてまた会える日を楽しみにしています。次に会うときはたくさんお話しできるといいですね。\\n\\n季節の変わり目ですので、どうか体調には気を付けてください。それでは、またお便りを楽しみにしています。\\n\\n心からの友情を込めて。\\n\\n[あなたの名前]より\\n\\n---\\n\\nこのような手紙を参考にして、あなたの内容に合わせてカスタマイズすると良いかもしれません。何か特別な内容や質問がありますか？', refusal=None, role='assistant', audio=None, function_call=None, tool_calls=None)\n"
     ]
    }
   ],
   "source": [
    "import streamlit as st # フロントエンドを扱うstreamlitの機能をインポート\n",
    "from openai import OpenAI # openAIのchatGPTのAIを活用するための機能をインポート\n",
    "import os\n",
    "\n",
    "#api_key = st.secrets[\"openai\"][\"api_key\"]\n",
    "#client = OpenAI(api_key=api_key)\n",
    "#client = OpenAI(api_key=os.getenv(\"OPENAI_API_KEY\"))\n",
    "client = OpenAI()\n",
    "\n",
    "completion = client.chat.completions.create(\n",
    "    model=\"gpt-4o\",\n",
    "    messages=[\n",
    "        {\"role\": \"system\", \"content\": \"You are a helpful assistant.\"},\n",
    "        {\n",
    "            \"role\": \"user\",\n",
    "            \"content\": \"Write a letter in Japanese\"\n",
    "        }\n",
    "    ]\n",
    ")\n",
    "\n",
    "print(completion.choices[0].message.content)\n"
   ]
  },
  {
   "cell_type": "code",
   "execution_count": 10,
   "metadata": {},
   "outputs": [
    {
     "name": "stdout",
     "output_type": "stream",
     "text": [
      "もちろんです。以下に日本語で手紙の例を示します。\n",
      "\n",
      "---\n",
      "\n",
      "[あなたの名前]  \n",
      "[あなたの住所]  \n",
      "[日付]\n",
      "\n",
      "親愛なる[受取人の名前]様\n",
      "\n",
      "こんにちは。お元気ですか。最近は少し忙しい毎日を送っていますが、そちらはいかがでしょうか。\n",
      "\n",
      "先日は楽しい時間を過ごさせていただき、本当にありがとうございました。久しぶりにお会いできて、とても嬉しかったです。また、ぜひ一緒に食事にでも行きましょう。\n",
      "\n",
      "最近の近況ですが、仕事では新しいプロジェクトが始まり、忙しくも充実した日々を過ごしています。一方、趣味の方も少しずつ進んでいます。機会があれば、ぜひ一緒に何か楽しいことをしましょう。\n",
      "\n",
      "急に寒くなってきたので、くれぐれもお体に気を付けてください。またお会いできる日を楽しみにしています。\n",
      "\n",
      "心を込めて。\n",
      "\n",
      "[あなたの名前]\n",
      "\n",
      "---\n",
      "\n",
      "この手紙は友人や親しい人に宛てたものとして書かれています。受け手との関係や状況に応じて、内容を調整してみてください。\n"
     ]
    }
   ],
   "source": [
    "print(completion.choices[0].message.content)"
   ]
  },
  {
   "cell_type": "code",
   "execution_count": 1,
   "metadata": {},
   "outputs": [
    {
     "name": "stdout",
     "output_type": "stream",
     "text": [
      "APIキーが無効です: name 'client' is not defined\n"
     ]
    }
   ],
   "source": [
    "try:\n",
    "    response = client.chat.completions.create(\n",
    "        model=\"gpt-3.5-turbo\",\n",
    "        messages=[{\"role\": \"user\", \"content\": \"Hello\"}]\n",
    "    )\n",
    "    print(\"APIキーは有効です\")\n",
    "except Exception as e:\n",
    "    print(\"APIキーが無効です:\", e)\n"
   ]
  },
  {
   "cell_type": "code",
   "execution_count": null,
   "metadata": {},
   "outputs": [],
   "source": []
  }
 ],
 "metadata": {
  "kernelspec": {
   "display_name": "api_try",
   "language": "python",
   "name": "python3"
  },
  "language_info": {
   "codemirror_mode": {
    "name": "ipython",
    "version": 3
   },
   "file_extension": ".py",
   "mimetype": "text/x-python",
   "name": "python",
   "nbconvert_exporter": "python",
   "pygments_lexer": "ipython3",
   "version": "3.11.9"
  }
 },
 "nbformat": 4,
 "nbformat_minor": 2
}
